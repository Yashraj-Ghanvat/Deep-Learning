{
  "nbformat": 4,
  "nbformat_minor": 0,
  "metadata": {
    "colab": {
      "provenance": []
    },
    "kernelspec": {
      "name": "python3",
      "display_name": "Python 3"
    },
    "language_info": {
      "name": "python"
    }
  },
  "cells": [
    {
      "cell_type": "code",
      "execution_count": 69,
      "metadata": {
        "id": "mQYabmp3pT_O"
      },
      "outputs": [],
      "source": [
        "import tensorflow as tf\n",
        "import matplotlib.pyplot as plt\n",
        "# Importing layers and models from Keras (which is integrated into TensorFlow)\n",
        "# 'layers' provides building blocks like Conv2D, MaxPooling2D, Dense, etc.\n",
        "# 'models' allows us to construct neural network models\n",
        "from tensorflow.keras import layers, models\n",
        "\n",
        "# TensorFlow Datasets (tfds) provides ready-to-use datasets, useful for loading standard image datasets\n",
        "import tensorflow_datasets as tfds\n",
        "\n",
        "# EarlyStopping callback is used to stop training when the model performance stops improving\n",
        "# This prevents overfitting and saves time\n",
        "from tensorflow.keras.callbacks import EarlyStopping\n",
        "\n",
        "# Sequential is a type of model in Keras where you stack layers one after the other\n",
        "# It is simple and works well for most straightforward CNN architectures\n",
        "from tensorflow.keras.models import Sequential\n",
        "import pickle"
      ]
    },
    {
      "cell_type": "code",
      "source": [
        "# Step 2: Load The Dataset From Tensorflow Datasets"
      ],
      "metadata": {
        "id": "CR-K6wYvp8AZ"
      },
      "execution_count": 48,
      "outputs": []
    },
    {
      "cell_type": "code",
      "source": [
        "# Load the \"cats_vs_dogs\" dataset from TensorFlow Datasets (tfds)\n",
        "# We're splitting the dataset into 80% for training and 20% for validation\n",
        "# 'with_info=True' gives us additional metadata about the dataset (like labels, number of examples, etc.)\n",
        "# 'as_supervised=True' returns the data in the form of (image, label) pairs\n",
        "\n",
        "dataset, info = tfds.load(\n",
        "'cats_vs_dogs',\n",
        "split=['train[:80%]', 'train[80%:]'],\n",
        "with_info=True,\n",
        "as_supervised=True\n",
        ")\n",
        "# Name of the dataset\n",
        "# 80% training, 20% validation\n",
        "# Return the dataset info (useful for metadata)\n",
        "# Return (image, label) instead of a dictionary"
      ],
      "metadata": {
        "id": "mJO8Gg5QqhPr"
      },
      "execution_count": 49,
      "outputs": []
    },
    {
      "cell_type": "code",
      "source": [
        "# Unpack the dataset splits into training and validation datasets\n",
        "train_ds, val_ds = dataset"
      ],
      "metadata": {
        "id": "1848i19MqhND"
      },
      "execution_count": 50,
      "outputs": []
    },
    {
      "cell_type": "code",
      "source": [
        "# Step 3: Preprocess the data"
      ],
      "metadata": {
        "id": "Q3gajkt-qhKM"
      },
      "execution_count": 51,
      "outputs": []
    },
    {
      "cell_type": "code",
      "source": [
        "# Define a data augmentation pipeline using Keras' Sequential API\n",
        "# These layers randomly apply transformations to images during training\n",
        "# This helps the model generalize better by seeing a variety of image distortions\n",
        "data_augmentation = tf.keras.Sequential([\n",
        "layers.RandomFlip(\"horizontal_and_vertical\"),\n",
        "layers.RandomRotation(0.2),\n",
        "layers.RandomZoom(0.1),\n",
        "layers.RandomContrast(0.2)\n",
        " ])\n",
        "# Randomly rotate images by a factor of 0.2 (in radians)\n",
        "# Randomly zoom images in/out by 10%\n",
        "# Randomly adjust contrast by 20%"
      ],
      "metadata": {
        "id": "l881ubMTqhH9"
      },
      "execution_count": 52,
      "outputs": []
    },
    {
      "cell_type": "code",
      "source": [
        "# Define a function to preprocess the dataset images and labels\n",
        "def preprocess_data(image, label):\n",
        "    # Resize the image to 128x128 pixels (uniform input size for the model)\n",
        "    image = tf.image.resize(image, [128, 128])\n",
        "    # Normalize pixel values by dividing by 255 (puts values between 0 and 1)\n",
        "    image /= 255.0\n",
        "    return image, label\n",
        "\n",
        "def preprocess_train_data(image, label):\n",
        "    image, label = preprocess_data(image, label)\n",
        "    # Apply data augmentation to the image (only during training)\n",
        "    image = data_augmentation(image)\n",
        "    return image, label"
      ],
      "metadata": {
        "id": "GXpcUguaqhFb"
      },
      "execution_count": 53,
      "outputs": []
    },
    {
      "cell_type": "code",
      "source": [
        "# Step 4 : Prepare Datasets"
      ],
      "metadata": {
        "id": "ArHwTRPLqhC8"
      },
      "execution_count": 54,
      "outputs": []
    },
    {
      "cell_type": "code",
      "source": [
        "# Set the batch size (number of samples processed before the model updates)\n",
        "batch_size = 32\n",
        "# Prepare the training dataset:\n",
        "train_ds = (\n",
        "train_ds\n",
        ".map(preprocess_train_data)# Apply the preprocess_data function to each (image, label)  pair\n",
        ".shuffle(1000)      # Shuffle the dataset with a buffer size of 1000 (for randomness)\n",
        ".batch(batch_size)\n",
        ".prefetch(buffer_size=tf.data.AUTOTUNE)  # Shuffle the dataset with a buffer size of 1000 (for randomness)\n",
        "                                        # Group the data into batches of 32 images\n",
        "                                        # Prefetch data for better performance (non-blocking data loading)\n",
        ")"
      ],
      "metadata": {
        "id": "18LTSxlgqhAT"
      },
      "execution_count": 55,
      "outputs": []
    },
    {
      "cell_type": "code",
      "source": [
        "# Prepare the validation dataset:\n",
        "val_ds = (\n",
        "val_ds\n",
        ".map(preprocess_data)\n",
        "# Apply the same preprocessing (without shuffling oraugmentation)\n",
        ".batch(batch_size)\n",
        "# Batch the validation data\n",
        ".prefetch(buffer_size=tf.data.AUTOTUNE)  # Prefetch to speed up validation as well\n",
        ")"
      ],
      "metadata": {
        "id": "hrjyCNOnqg90"
      },
      "execution_count": 56,
      "outputs": []
    },
    {
      "cell_type": "code",
      "source": [
        "# Step 5 : Build the CNN architecture"
      ],
      "metadata": {
        "id": "SkS8ZID6qg7N"
      },
      "execution_count": 57,
      "outputs": []
    },
    {
      "cell_type": "code",
      "source": [
        "# Build a Convolutional Neural Network (CNN) using Keras Sequential API\n",
        "model = models.Sequential([\n",
        "# 1st Convolutional Layer:\n",
        "# Applies 32 filters of size 3x3, uses ReLU activation\n",
        "# Applies L2 regularization (to reduce overfitting)\n",
        "# Input shape is 128x128x3 (image size with 3 color channels)\n",
        "layers.Conv2D(32, (3, 3), activation='relu',\n",
        "kernel_regularizer=tf.keras.regularizers.l2(0.01),\n",
        "input_shape=(128, 128, 3)),\n",
        "# 1st Max Pooling Layer: downsample the feature maps by taking the max in 2x2 regions\n",
        "layers.MaxPooling2D(pool_size=(2, 2)),\n",
        "# 2nd Convolutional Layer: 64 filters, no regularization needed here\n",
        "layers.Conv2D(64, (3, 3), activation='relu'),\n",
        "# 2nd Max Pooling Layer\n",
        "layers.MaxPooling2D(pool_size=(2, 2)),\n",
        "# 3rd Convolutional Layer: 128 filters, more depth to capture complex features\n",
        "layers.Conv2D(128, (3, 3), activation='relu'),\n",
        "# 3rd Max Pooling Layer\n",
        "layers.MaxPooling2D(pool_size=(2, 2)),\n",
        "# Flatten the output from the convolutional layers to feed into dense (fully connected) layers\n",
        "layers.Flatten(),\n",
        "# Dense (fully connected) layer with 128 neurons and ReLU activation\n",
        "layers.Dense(128, activation='relu'),\n",
        "# Dropout layer: randomly drops 20% of neurons during training to prevent overfitting\n",
        "layers.Dropout(0.2),\n",
        "# Output layer: 1 neuron with sigmoid activation (since it's a binary classification: cat or dog)\n",
        "layers.Dense(1, activation='sigmoid')\n",
        "])"
      ],
      "metadata": {
        "colab": {
          "base_uri": "https://localhost:8080/"
        },
        "id": "igeLW0J1qg4k",
        "outputId": "680b2d36-ddfd-4957-e24d-95a67ae82e2c"
      },
      "execution_count": 58,
      "outputs": [
        {
          "output_type": "stream",
          "name": "stderr",
          "text": [
            "/usr/local/lib/python3.12/dist-packages/keras/src/layers/convolutional/base_conv.py:113: UserWarning: Do not pass an `input_shape`/`input_dim` argument to a layer. When using Sequential models, prefer using an `Input(shape)` object as the first layer in the model instead.\n",
            "  super().__init__(activity_regularizer=activity_regularizer, **kwargs)\n"
          ]
        }
      ]
    },
    {
      "cell_type": "code",
      "source": [
        "# Compile the model:\n",
        "# - Optimizer: Adam (adaptive learning rate)\n",
        "# - Loss: binary_crossentropy (appropriate for binary classification)\n",
        "# - Metrics: track accuracy during training and evaluation\n",
        "model.compile(\n",
        "optimizer='adam',\n",
        "loss='binary_crossentropy',\n",
        "metrics=['accuracy']\n",
        ")"
      ],
      "metadata": {
        "id": "UGZzMLtgqg2F"
      },
      "execution_count": 59,
      "outputs": []
    },
    {
      "cell_type": "code",
      "source": [
        "# Step 6 : Define Early Stopping Callback"
      ],
      "metadata": {
        "id": "eLePlfrmqgzR"
      },
      "execution_count": 60,
      "outputs": []
    },
    {
      "cell_type": "code",
      "source": [
        "# # EarlyStopping callback helps stop training when the model performance on the validation set stops improving\n",
        "# early_stopping = EarlyStopping(\n",
        "# monitor='val_loss',  # Monitor the validation loss to detect when the model starts overfitting\n",
        "# patience=3           # Stop training if 'val_loss' does not improve for 3 consecutive epochs\n",
        "# )"
      ],
      "metadata": {
        "id": "r0qsl3GLqgw8"
      },
      "execution_count": 61,
      "outputs": []
    },
    {
      "cell_type": "code",
      "source": [
        "# Step 7 : Train the CNN Model"
      ],
      "metadata": {
        "id": "l8G5QLyutwAE"
      },
      "execution_count": 62,
      "outputs": []
    },
    {
      "cell_type": "code",
      "source": [
        "# Build a Convolutional Neural Network (CNN) using Keras Sequential API\n",
        "model = models.Sequential([\n",
        "    # 1st Convolutional Layer:\n",
        "    # Applies 32 filters of size 3x3, uses ReLU activation\n",
        "    # Applies L2 regularization (to reduce overfitting)\n",
        "    # Input shape is 128x128x3 (image size with 3 color channels)\n",
        "    layers.Conv2D(32, (3, 3), activation='relu',\n",
        "                  kernel_regularizer=tf.keras.regularizers.l2(0.01),\n",
        "                  input_shape=(128, 128, 3)),\n",
        "    # 1st Max Pooling Layer: downsample the feature maps by taking the max in 2x2 regions\n",
        "    layers.MaxPooling2D(pool_size=(2, 2)),\n",
        "    # 2nd Convolutional Layer: 64 filters, no regularization needed here\n",
        "    layers.Conv2D(64, (3, 3), activation='relu'),\n",
        "    # 2nd Max Pooling Layer\n",
        "    layers.MaxPooling2D(pool_size=(2, 2)),\n",
        "    # 3rd Convolutional Layer: 128 filters, more depth to capture complex features\n",
        "    layers.Conv2D(128, (3, 3), activation='relu'),\n",
        "    # 3rd Max Pooling Layer\n",
        "    layers.MaxPooling2D(pool_size=(2, 2)),\n",
        "    # Flatten the output from the convolutional layers to feed into dense (fully connected) layers\n",
        "    layers.Flatten(),\n",
        "    # Dense (fully connected) layer with 128 neurons and ReLU activation\n",
        "    layers.Dense(128, activation='relu'),\n",
        "    # Dropout layer: randomly drops 20% of neurons during training to prevent overfitting\n",
        "    layers.Dropout(0.2),\n",
        "    # Output layer: 1 neuron with sigmoid activation (since it's a binary classification: cat or dog)\n",
        "    layers.Dense(1, activation='sigmoid')\n",
        "])\n",
        "\n",
        "# Compile the model:\n",
        "# - Optimizer: Adam (adaptive learning rate)\n",
        "# - Loss: binary_crossentropy (appropriate for binary classification)\n",
        "# - Metrics: track accuracy during training and evaluation\n",
        "model.compile(\n",
        "    optimizer='adam',\n",
        "    loss='binary_crossentropy',\n",
        "    metrics=['accuracy']\n",
        ")\n",
        "\n",
        "# Set the maximum number of training epochs\n",
        "epochs = 30\n",
        "# Train the model using the training dataset, and validate on the validation dataset\n",
        "history = model.fit(\n",
        "    train_ds,\n",
        "    validation_data=val_ds,\n",
        "    epochs=epochs,\n",
        "    callbacks=[early_stopping]\n",
        ")\n",
        "# Training data\n",
        "# Validation data to evaluate performance after each epoch\n",
        "# Maximum number of epochs to train\n",
        "# Apply early stopping to halt training if val_loss stops improving"
      ],
      "metadata": {
        "colab": {
          "base_uri": "https://localhost:8080/"
        },
        "id": "08KAjknvtv9j",
        "outputId": "d1d07bed-cbef-496c-f50a-ea1025e393fb"
      },
      "execution_count": 63,
      "outputs": [
        {
          "output_type": "stream",
          "name": "stdout",
          "text": [
            "Epoch 1/30\n",
            "\u001b[1m582/582\u001b[0m \u001b[32m━━━━━━━━━━━━━━━━━━━━\u001b[0m\u001b[37m\u001b[0m \u001b[1m678s\u001b[0m 1s/step - accuracy: 0.5478 - loss: 0.7231 - val_accuracy: 0.6202 - val_loss: 0.6725\n",
            "Epoch 2/30\n",
            "\u001b[1m582/582\u001b[0m \u001b[32m━━━━━━━━━━━━━━━━━━━━\u001b[0m\u001b[37m\u001b[0m \u001b[1m665s\u001b[0m 1s/step - accuracy: 0.6300 - loss: 0.6588 - val_accuracy: 0.6812 - val_loss: 0.6020\n",
            "Epoch 3/30\n",
            "\u001b[1m582/582\u001b[0m \u001b[32m━━━━━━━━━━━━━━━━━━━━\u001b[0m\u001b[37m\u001b[0m \u001b[1m721s\u001b[0m 1s/step - accuracy: 0.6737 - loss: 0.6104 - val_accuracy: 0.6814 - val_loss: 0.5991\n",
            "Epoch 4/30\n",
            "\u001b[1m582/582\u001b[0m \u001b[32m━━━━━━━━━━━━━━━━━━━━\u001b[0m\u001b[37m\u001b[0m \u001b[1m671s\u001b[0m 1s/step - accuracy: 0.6970 - loss: 0.5888 - val_accuracy: 0.7085 - val_loss: 0.5774\n",
            "Epoch 5/30\n",
            "\u001b[1m582/582\u001b[0m \u001b[32m━━━━━━━━━━━━━━━━━━━━\u001b[0m\u001b[37m\u001b[0m \u001b[1m704s\u001b[0m 1s/step - accuracy: 0.7157 - loss: 0.5646 - val_accuracy: 0.7352 - val_loss: 0.5395\n",
            "Epoch 6/30\n",
            "\u001b[1m582/582\u001b[0m \u001b[32m━━━━━━━━━━━━━━━━━━━━\u001b[0m\u001b[37m\u001b[0m \u001b[1m703s\u001b[0m 1s/step - accuracy: 0.7306 - loss: 0.5512 - val_accuracy: 0.7203 - val_loss: 0.5517\n",
            "Epoch 7/30\n",
            "\u001b[1m582/582\u001b[0m \u001b[32m━━━━━━━━━━━━━━━━━━━━\u001b[0m\u001b[37m\u001b[0m \u001b[1m707s\u001b[0m 1s/step - accuracy: 0.7309 - loss: 0.5478 - val_accuracy: 0.7259 - val_loss: 0.5464\n",
            "Epoch 8/30\n",
            "\u001b[1m582/582\u001b[0m \u001b[32m━━━━━━━━━━━━━━━━━━━━\u001b[0m\u001b[37m\u001b[0m \u001b[1m685s\u001b[0m 1s/step - accuracy: 0.7353 - loss: 0.5418 - val_accuracy: 0.7405 - val_loss: 0.5233\n",
            "Epoch 9/30\n",
            "\u001b[1m582/582\u001b[0m \u001b[32m━━━━━━━━━━━━━━━━━━━━\u001b[0m\u001b[37m\u001b[0m \u001b[1m709s\u001b[0m 1s/step - accuracy: 0.7433 - loss: 0.5273 - val_accuracy: 0.7610 - val_loss: 0.5109\n",
            "Epoch 10/30\n",
            "\u001b[1m582/582\u001b[0m \u001b[32m━━━━━━━━━━━━━━━━━━━━\u001b[0m\u001b[37m\u001b[0m \u001b[1m782s\u001b[0m 1s/step - accuracy: 0.7506 - loss: 0.5234 - val_accuracy: 0.7377 - val_loss: 0.5364\n",
            "Epoch 11/30\n",
            "\u001b[1m582/582\u001b[0m \u001b[32m━━━━━━━━━━━━━━━━━━━━\u001b[0m\u001b[37m\u001b[0m \u001b[1m665s\u001b[0m 1s/step - accuracy: 0.7554 - loss: 0.5133 - val_accuracy: 0.7365 - val_loss: 0.5436\n",
            "Epoch 12/30\n",
            "\u001b[1m582/582\u001b[0m \u001b[32m━━━━━━━━━━━━━━━━━━━━\u001b[0m\u001b[37m\u001b[0m \u001b[1m664s\u001b[0m 1s/step - accuracy: 0.7565 - loss: 0.5100 - val_accuracy: 0.7698 - val_loss: 0.4965\n",
            "Epoch 13/30\n",
            "\u001b[1m582/582\u001b[0m \u001b[32m━━━━━━━━━━━━━━━━━━━━\u001b[0m\u001b[37m\u001b[0m \u001b[1m705s\u001b[0m 1s/step - accuracy: 0.7550 - loss: 0.5137 - val_accuracy: 0.7696 - val_loss: 0.4981\n",
            "Epoch 14/30\n",
            "\u001b[1m582/582\u001b[0m \u001b[32m━━━━━━━━━━━━━━━━━━━━\u001b[0m\u001b[37m\u001b[0m \u001b[1m666s\u001b[0m 1s/step - accuracy: 0.7683 - loss: 0.4994 - val_accuracy: 0.7448 - val_loss: 0.5271\n",
            "Epoch 15/30\n",
            "\u001b[1m582/582\u001b[0m \u001b[32m━━━━━━━━━━━━━━━━━━━━\u001b[0m\u001b[37m\u001b[0m \u001b[1m681s\u001b[0m 1s/step - accuracy: 0.7712 - loss: 0.4903 - val_accuracy: 0.7674 - val_loss: 0.4943\n",
            "Epoch 16/30\n",
            "\u001b[1m582/582\u001b[0m \u001b[32m━━━━━━━━━━━━━━━━━━━━\u001b[0m\u001b[37m\u001b[0m \u001b[1m667s\u001b[0m 1s/step - accuracy: 0.7695 - loss: 0.4916 - val_accuracy: 0.7786 - val_loss: 0.4882\n",
            "Epoch 17/30\n",
            "\u001b[1m582/582\u001b[0m \u001b[32m━━━━━━━━━━━━━━━━━━━━\u001b[0m\u001b[37m\u001b[0m \u001b[1m668s\u001b[0m 1s/step - accuracy: 0.7736 - loss: 0.4850 - val_accuracy: 0.7807 - val_loss: 0.4796\n",
            "Epoch 18/30\n",
            "\u001b[1m582/582\u001b[0m \u001b[32m━━━━━━━━━━━━━━━━━━━━\u001b[0m\u001b[37m\u001b[0m \u001b[1m666s\u001b[0m 1s/step - accuracy: 0.7766 - loss: 0.4744 - val_accuracy: 0.7807 - val_loss: 0.4752\n",
            "Epoch 19/30\n",
            "\u001b[1m582/582\u001b[0m \u001b[32m━━━━━━━━━━━━━━━━━━━━\u001b[0m\u001b[37m\u001b[0m \u001b[1m703s\u001b[0m 1s/step - accuracy: 0.7790 - loss: 0.4715 - val_accuracy: 0.7930 - val_loss: 0.4696\n",
            "Epoch 20/30\n",
            "\u001b[1m582/582\u001b[0m \u001b[32m━━━━━━━━━━━━━━━━━━━━\u001b[0m\u001b[37m\u001b[0m \u001b[1m704s\u001b[0m 1s/step - accuracy: 0.7848 - loss: 0.4700 - val_accuracy: 0.7835 - val_loss: 0.4760\n",
            "Epoch 21/30\n",
            "\u001b[1m582/582\u001b[0m \u001b[32m━━━━━━━━━━━━━━━━━━━━\u001b[0m\u001b[37m\u001b[0m \u001b[1m667s\u001b[0m 1s/step - accuracy: 0.7904 - loss: 0.4593 - val_accuracy: 0.7850 - val_loss: 0.4751\n",
            "Epoch 22/30\n",
            "\u001b[1m582/582\u001b[0m \u001b[32m━━━━━━━━━━━━━━━━━━━━\u001b[0m\u001b[37m\u001b[0m \u001b[1m683s\u001b[0m 1s/step - accuracy: 0.7892 - loss: 0.4583 - val_accuracy: 0.7947 - val_loss: 0.4498\n",
            "Epoch 23/30\n",
            "\u001b[1m582/582\u001b[0m \u001b[32m━━━━━━━━━━━━━━━━━━━━\u001b[0m\u001b[37m\u001b[0m \u001b[1m680s\u001b[0m 1s/step - accuracy: 0.7944 - loss: 0.4569 - val_accuracy: 0.7850 - val_loss: 0.4711\n",
            "Epoch 24/30\n",
            "\u001b[1m582/582\u001b[0m \u001b[32m━━━━━━━━━━━━━━━━━━━━\u001b[0m\u001b[37m\u001b[0m \u001b[1m669s\u001b[0m 1s/step - accuracy: 0.7957 - loss: 0.4513 - val_accuracy: 0.8012 - val_loss: 0.4416\n",
            "Epoch 25/30\n",
            "\u001b[1m582/582\u001b[0m \u001b[32m━━━━━━━━━━━━━━━━━━━━\u001b[0m\u001b[37m\u001b[0m \u001b[1m670s\u001b[0m 1s/step - accuracy: 0.7975 - loss: 0.4453 - val_accuracy: 0.7863 - val_loss: 0.4801\n",
            "Epoch 26/30\n",
            "\u001b[1m582/582\u001b[0m \u001b[32m━━━━━━━━━━━━━━━━━━━━\u001b[0m\u001b[37m\u001b[0m \u001b[1m672s\u001b[0m 1s/step - accuracy: 0.8043 - loss: 0.4373 - val_accuracy: 0.7760 - val_loss: 0.4833\n",
            "Epoch 27/30\n",
            "\u001b[1m582/582\u001b[0m \u001b[32m━━━━━━━━━━━━━━━━━━━━\u001b[0m\u001b[37m\u001b[0m \u001b[1m720s\u001b[0m 1s/step - accuracy: 0.8035 - loss: 0.4379 - val_accuracy: 0.7945 - val_loss: 0.4591\n",
            "Epoch 28/30\n",
            "\u001b[1m582/582\u001b[0m \u001b[32m━━━━━━━━━━━━━━━━━━━━\u001b[0m\u001b[37m\u001b[0m \u001b[1m687s\u001b[0m 1s/step - accuracy: 0.8036 - loss: 0.4362 - val_accuracy: 0.8048 - val_loss: 0.4428\n",
            "Epoch 29/30\n",
            "\u001b[1m582/582\u001b[0m \u001b[32m━━━━━━━━━━━━━━━━━━━━\u001b[0m\u001b[37m\u001b[0m \u001b[1m659s\u001b[0m 1s/step - accuracy: 0.8052 - loss: 0.4404 - val_accuracy: 0.7739 - val_loss: 0.4913\n",
            "Epoch 30/30\n",
            "\u001b[1m582/582\u001b[0m \u001b[32m━━━━━━━━━━━━━━━━━━━━\u001b[0m\u001b[37m\u001b[0m \u001b[1m673s\u001b[0m 1s/step - accuracy: 0.8066 - loss: 0.4314 - val_accuracy: 0.7969 - val_loss: 0.4526\n"
          ]
        }
      ]
    },
    {
      "cell_type": "code",
      "source": [
        "# Step 8 : Evaluate The Model"
      ],
      "metadata": {
        "id": "6QLKW80at6-8"
      },
      "execution_count": 64,
      "outputs": []
    },
    {
      "cell_type": "code",
      "source": [
        "\n",
        "# Evaluate the model's performance on the validation dataset\n",
        "# This returns the loss and accuracy on unseen validation data\n",
        "loss, accuracy = model.evaluate(val_ds)\n",
        "# Print the validation accuracy with 2 decimal places\n",
        "print(f'Validation Accuracy: {accuracy:.2f}')"
      ],
      "metadata": {
        "colab": {
          "base_uri": "https://localhost:8080/"
        },
        "id": "YomMHstItv7c",
        "outputId": "d7dbbaaf-9dc5-402d-a3db-21803a0645d0"
      },
      "execution_count": 65,
      "outputs": [
        {
          "output_type": "stream",
          "name": "stdout",
          "text": [
            "\u001b[1m146/146\u001b[0m \u001b[32m━━━━━━━━━━━━━━━━━━━━\u001b[0m\u001b[37m\u001b[0m \u001b[1m40s\u001b[0m 271ms/step - accuracy: 0.7932 - loss: 0.4711\n",
            "Validation Accuracy: 0.80\n"
          ]
        }
      ]
    },
    {
      "cell_type": "code",
      "source": [
        "# Step 9 : Plot The Training History"
      ],
      "metadata": {
        "id": "MRFd4Opktv5E"
      },
      "execution_count": null,
      "outputs": []
    },
    {
      "cell_type": "code",
      "source": [
        "# Define a function to plot training and validation accuracy & loss over epochs\n",
        "def plot_history(history):\n",
        "    plt.figure(figsize=(12, 5))\n",
        "# Plot accuracy over epochs\n",
        "plt.subplot(1, 2, 1)\n",
        "# Set the figure size for better visibility\n",
        "# Create the first subplot (1 row, 2 columns, position 1)\n",
        "plt.plot(history.history['accuracy'], label='Train Accuracy')\n",
        "# Plot training accuracy\n",
        "plt.plot(history.history['val_accuracy'], label='Validation Accuracy')  # Plot validation accuracy\n",
        "plt.title('Model Accuracy')\n",
        "plt.ylabel('Accuracy')\n",
        "plt.xlabel('Epochs')\n",
        "plt.legend(loc='lower right')\n",
        "# Plot loss over epochs\n",
        "# Title of the accuracy plot\n",
        "# Y-axis label\n",
        "# X-axis label\n",
        "# Legend position\n",
        "plt.subplot(1, 2, 2)  # Create the second subplot (1 row, 2 columns, position 2)\n",
        "plt.plot(history.history['loss'], label='Train Loss')\n",
        "     # Plot training loss\n",
        "plt.plot(history.history['val_loss'], label='Validation Loss')  # Plot validation loss\n",
        "plt.title('Model Loss')\n",
        "plt.ylabel('Loss')\n",
        "plt.xlabel('Epoch')\n",
        "plt.legend(loc='upper right')\n",
        "# Show the plots\n",
        "plt.show()\n",
        "# Call the function to plot the training history\n",
        "plot_history(history)\n"
      ],
      "metadata": {
        "colab": {
          "base_uri": "https://localhost:8080/",
          "height": 489
        },
        "id": "w2-syeEwtv2M",
        "outputId": "df4f3ee2-7023-4f63-ae90-fa1426f4ba11"
      },
      "execution_count": 71,
      "outputs": [
        {
          "output_type": "display_data",
          "data": {
            "text/plain": [
              "<Figure size 640x480 with 2 Axes>"
            ],
            "image/png": "[encoded data removed]"
          },
          "metadata": {}
        },
        {
          "output_type": "display_data",
          "data": {
            "text/plain": [
              "<Figure size 1200x500 with 0 Axes>"
            ]
          },
          "metadata": {}
        }
      ]
    },
    {
      "cell_type": "code",
      "source": [
        "# Step 10: Saving the best model"
      ],
      "metadata": {
        "id": "onnG-G8ktvy8"
      },
      "execution_count": 72,
      "outputs": []
    },
    {
      "cell_type": "code",
      "source": [
        "# Save model using pickle\n",
        "with open(\"cat_dog_model.pkl\", \"wb\") as f:\n",
        "  pickle.dump(model, f)"
      ],
      "metadata": {
        "id": "M_2h2xDruJlU"
      },
      "execution_count": 74,
      "outputs": []
    },
    {
      "cell_type": "code",
      "source": [],
      "metadata": {
        "id": "bMuajqEjuJi0"
      },
      "execution_count": null,
      "outputs": []
    },
    {
      "cell_type": "code",
      "source": [],
      "metadata": {
        "id": "QOPHpZBQuJbk"
      },
      "execution_count": null,
      "outputs": []
    }
  ]
}